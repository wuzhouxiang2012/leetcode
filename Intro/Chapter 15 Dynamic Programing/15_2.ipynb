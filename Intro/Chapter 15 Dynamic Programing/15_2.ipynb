{
 "cells": [
  {
   "cell_type": "markdown",
   "metadata": {},
   "source": [
    "Given $[p_0, p_1, p_2,...,p_n]$, where matrix $A_i$ has dimensions $p_{i-1}\\times p_i$,\n",
    "minimizes the number of scalar multiplications."
   ]
  },
  {
   "cell_type": "code",
   "execution_count": 9,
   "metadata": {},
   "outputs": [],
   "source": [
    "def MatrixChainOrder(p):\n",
    "    n = len(p)-1 # num of matrix\n",
    "    # m[i,j] indicates the num of scalar multiplications [i,j]\n",
    "    # m dimension is nxn\n",
    "    m = [[1e9]*n for _ in range(n)]\n",
    "    # s[i,j] indicates the split point k\n",
    "    s = [[-1]*n for _ in range(n)]\n",
    "    for i in range(n):\n",
    "        m[i][i] = 0\n",
    "    for l in range(2, n+1): # l is the chain length\n",
    "        for i in range(0, n-l+1):\n",
    "            j = i+l-1\n",
    "            for k in range(i,j):\n",
    "                q =  m[i][k]+m[k+1][j]+p[i]*p[k+1]*p[j+1]\n",
    "                if q<m[i][j]:\n",
    "                    m[i][j]=q\n",
    "                    s[i][j]=k\n",
    "    \n",
    "    def PrintOptimalParens(s,i,j):\n",
    "        if i==j:\n",
    "            print(f'A{i+1}', end='')\n",
    "        else:\n",
    "            print(\"(\", end='')\n",
    "            PrintOptimalParens(s,i,s[i][j])\n",
    "            PrintOptimalParens(s,s[i][j]+1, j)\n",
    "            print(\")\",end='')\n",
    "    PrintOptimalParens(s, 0, n-1)\n",
    "    return m[0][n-1]\n",
    "\n",
    "            \n"
   ]
  },
  {
   "cell_type": "code",
   "execution_count": 10,
   "metadata": {},
   "outputs": [
    {
     "name": "stdout",
     "output_type": "stream",
     "text": [
      "((A1A2)((A3A4)(A5A6)))"
     ]
    },
    {
     "data": {
      "text/plain": [
       "2010"
      ]
     },
     "execution_count": 10,
     "metadata": {},
     "output_type": "execute_result"
    }
   ],
   "source": [
    "#15.2-1 \n",
    "p = [5,10,3,12,5,50,6]\n",
    "MatrixChainOrder(p)"
   ]
  },
  {
   "cell_type": "code",
   "execution_count": null,
   "metadata": {},
   "outputs": [],
   "source": []
  }
 ],
 "metadata": {
  "kernelspec": {
   "display_name": "Python 3.9.13 ('base')",
   "language": "python",
   "name": "python3"
  },
  "language_info": {
   "codemirror_mode": {
    "name": "ipython",
    "version": 3
   },
   "file_extension": ".py",
   "mimetype": "text/x-python",
   "name": "python",
   "nbconvert_exporter": "python",
   "pygments_lexer": "ipython3",
   "version": "3.9.13"
  },
  "orig_nbformat": 4,
  "vscode": {
   "interpreter": {
    "hash": "d7d2f236f950acf9e92481875b6444c30e23e20caaa0a9b45337589cc0624df2"
   }
  }
 },
 "nbformat": 4,
 "nbformat_minor": 2
}
